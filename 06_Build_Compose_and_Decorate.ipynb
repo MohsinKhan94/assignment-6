{
  "nbformat": 4,
  "nbformat_minor": 0,
  "metadata": {
    "colab": {
      "provenance": [],
      "authorship_tag": "ABX9TyM930atqDb/8VrX9yIr07U7",
      "include_colab_link": true
    },
    "kernelspec": {
      "name": "python3",
      "display_name": "Python 3"
    },
    "language_info": {
      "name": "python"
    }
  },
  "cells": [
    {
      "cell_type": "markdown",
      "metadata": {
        "id": "view-in-github",
        "colab_type": "text"
      },
      "source": [
        "<a href=\"https://colab.research.google.com/github/MohsinKhan94/assignment-6/blob/main/06_Build_Compose_and_Decorate.ipynb\" target=\"_parent\"><img src=\"https://colab.research.google.com/assets/colab-badge.svg\" alt=\"Open In Colab\"/></a>"
      ]
    },
    {
      "cell_type": "code",
      "source": [
        "# 1. Using self\n",
        "#Assignment:\n",
        "# Create a class Student with attributes name and marks. Use the self keyword to initialize these values via a constructor. Add a method display() that prints student details.\n",
        "\n",
        "class Student:\n",
        "    def __init__(self, name, marks):\n",
        "        self.name = name        # Using self to initialize name\n",
        "        self.marks = marks      # Using self to initialize marks\n",
        "\n",
        "    def display(self):\n",
        "        print(f\"Student Name: {self.name}\")\n",
        "        print(f\"Marks: {self.marks}\")\n",
        "\n",
        "# Example usage:\n",
        "student1 = Student(\"Alice\", 85)\n",
        "student1.display()\n"
      ],
      "metadata": {
        "colab": {
          "base_uri": "https://localhost:8080/"
        },
        "id": "7v0TpX3VfOIy",
        "outputId": "207924d9-4ac8-4456-a1ad-ac95ce2ee650"
      },
      "execution_count": 21,
      "outputs": [
        {
          "output_type": "stream",
          "name": "stdout",
          "text": [
            "Student Name: Alice\n",
            "Marks: 85\n"
          ]
        }
      ]
    },
    {
      "cell_type": "code",
      "source": [
        "# 2. Using cls\n",
        "# Assignment:\n",
        "# Create a class Counter that keeps track of how many objects have been created. Use a class variable and a class method with cls to manage and display the count.\n",
        "\n",
        "class Counter:\n",
        "    count = 0  # Class variable to keep track of object count\n",
        "\n",
        "    def __init__(self):\n",
        "        Counter.count += 1  # Increment the count whenever a new object is created\n",
        "\n",
        "    @classmethod\n",
        "    def display_count(cls):\n",
        "        print(f\"Total objects created: {cls.count}\")\n",
        "\n",
        "# Example usage:\n",
        "obj1 = Counter()\n",
        "obj2 = Counter()\n",
        "obj3 = Counter()\n",
        "\n",
        "Counter.display_count()\n"
      ],
      "metadata": {
        "colab": {
          "base_uri": "https://localhost:8080/"
        },
        "id": "YFjbeaQWfhLb",
        "outputId": "972905df-fc69-4136-9b9d-b7bbe1a0adc6"
      },
      "execution_count": 20,
      "outputs": [
        {
          "output_type": "stream",
          "name": "stdout",
          "text": [
            "Total objects created: 3\n"
          ]
        }
      ]
    },
    {
      "cell_type": "code",
      "source": [
        "# 3. Public Variables and Methods\n",
        "# Assignment:\n",
        "# Create a class Car with a public variable brand and a public method start(). Instantiate the class and access both from outside the class.\n",
        "\n",
        "class Car:\n",
        "    def __init__(self, brand):\n",
        "        self.brand = brand  # Public variable\n",
        "\n",
        "    def start(self):        # Public method\n",
        "        print(f\"The {self.brand} car has started.\")\n",
        "\n",
        "# Instantiate the class\n",
        "my_car = Car(\"Toyota\")\n",
        "\n",
        "# Access public variable\n",
        "print(\"Brand:\", my_car.brand)\n",
        "\n",
        "# Call public method\n",
        "my_car.start()\n"
      ],
      "metadata": {
        "colab": {
          "base_uri": "https://localhost:8080/"
        },
        "id": "XbX3rFDnf1NX",
        "outputId": "4dbc369d-97ec-40b3-a903-fb6d51a1ca3e"
      },
      "execution_count": 19,
      "outputs": [
        {
          "output_type": "stream",
          "name": "stdout",
          "text": [
            "Brand: Toyota\n",
            "The Toyota car has started.\n"
          ]
        }
      ]
    },
    {
      "cell_type": "code",
      "source": [
        "# 4. Class Variables and Class Methods\n",
        "# Assignment:\n",
        "# Create a class Bank with a class variable bank_name. Add a class method change_bank_name(cls, name) that allows changing the bank name. Show that it affects all instances.\n",
        "\n",
        "class Bank:\n",
        "    bank_name = \"Default Bank\"  # Class variable\n",
        "\n",
        "    def __init__(self, account_holder):\n",
        "        self.account_holder = account_holder\n",
        "\n",
        "    @classmethod\n",
        "    def change_bank_name(cls, name):\n",
        "        cls.bank_name = name  # Changing the class variable\n",
        "\n",
        "    def display(self):\n",
        "        print(f\"Account Holder: {self.account_holder}\")\n",
        "        print(f\"Bank Name: {Bank.bank_name}\")\n",
        "\n",
        "# Create instances\n",
        "account1 = Bank(\"Alice\")\n",
        "account2 = Bank(\"Bob\")\n",
        "\n",
        "# Display original bank name\n",
        "account1.display()\n",
        "account2.display()\n",
        "\n",
        "print(\"\\nChanging bank name...\\n\")\n",
        "Bank.change_bank_name(\"NextGen Bank\")\n",
        "\n",
        "# Display after changing the bank name\n",
        "account1.display()\n",
        "account2.display()\n",
        "\n"
      ],
      "metadata": {
        "colab": {
          "base_uri": "https://localhost:8080/"
        },
        "id": "Wyw4_PvIgEHQ",
        "outputId": "4a335fe2-8d77-4032-c440-9add7e76177b"
      },
      "execution_count": 18,
      "outputs": [
        {
          "output_type": "stream",
          "name": "stdout",
          "text": [
            "Account Holder: Alice\n",
            "Bank Name: Default Bank\n",
            "Account Holder: Bob\n",
            "Bank Name: Default Bank\n",
            "\n",
            "Changing bank name...\n",
            "\n",
            "Account Holder: Alice\n",
            "Bank Name: NextGen Bank\n",
            "Account Holder: Bob\n",
            "Bank Name: NextGen Bank\n"
          ]
        }
      ]
    },
    {
      "cell_type": "code",
      "source": [
        "# 5. Static Variables and Static Methods\n",
        "# Assignment:\n",
        "# Create a class MathUtils with a static method add(a, b) that returns the sum. No class or instance variables should be used.\n",
        "\n",
        "class MathUtils:\n",
        "    @staticmethod\n",
        "    def add(a, b):\n",
        "        return a + b\n",
        "\n",
        "# Example usage:\n",
        "result = MathUtils.add(5, 7)\n",
        "print(\"Sum:\", result)\n"
      ],
      "metadata": {
        "colab": {
          "base_uri": "https://localhost:8080/"
        },
        "id": "VD5BaaBwgVtK",
        "outputId": "117c5932-4386-4e20-afe2-cd500e8621df"
      },
      "execution_count": 17,
      "outputs": [
        {
          "output_type": "stream",
          "name": "stdout",
          "text": [
            "Sum: 12\n"
          ]
        }
      ]
    },
    {
      "cell_type": "code",
      "source": [
        "# 6. Constructors and Destructors\n",
        "# Assignment:\n",
        "# Create a class Logger that prints a message when an object is created (constructor) and another message when it is destroyed (destructor).\n",
        "\n",
        "class Logger:\n",
        "    def __init__(self):\n",
        "        print(\"Logger initialized: Object created.\")\n",
        "\n",
        "    def __del__(self):\n",
        "        print(\"Logger destroyed: Object deleted.\")\n",
        "\n",
        "# Example usage:\n",
        "logger1 = Logger()\n",
        "\n",
        "del logger1\n",
        "\n",
        "\n"
      ],
      "metadata": {
        "colab": {
          "base_uri": "https://localhost:8080/"
        },
        "id": "BTfCPe-rgkIs",
        "outputId": "1095e042-8f66-47c7-8f96-92c5154e5fe8"
      },
      "execution_count": 16,
      "outputs": [
        {
          "output_type": "stream",
          "name": "stdout",
          "text": [
            "Logger initialized: Object created.\n",
            "Logger destroyed: Object deleted.\n"
          ]
        }
      ]
    },
    {
      "cell_type": "code",
      "source": [
        "# 7. Access Modifiers: Public, Private, and Protected\n",
        "# Assignment:\n",
        "# Create a class Employee with:\n",
        "\n",
        "# a public variable name,\n",
        "\n",
        "# a protected variable _salary, and\n",
        "\n",
        "# a private variable __ssn.\n",
        "\n",
        "# Try accessing all three variables from an object of the class and document what happens.\n",
        "\n",
        "class Employee:\n",
        "    def __init__(self, name, salary, ssn):\n",
        "        self.name = name          # Public variable\n",
        "        self._salary = salary     # Protected variable\n",
        "        self.__ssn = ssn          # Private variable\n",
        "\n",
        "    def display(self):\n",
        "        print(f\"Name: {self.name}\")\n",
        "        print(f\"Salary: {self._salary}\")\n",
        "        print(f\"SSN: {self.__ssn}\")\n",
        "\n",
        "# Create an object\n",
        "emp = Employee(\"Alice\", 70000, \"123-45-6789\")\n",
        "\n",
        "# Accessing variables\n",
        "print(\"Public:\", emp.name)           # Accessible\n",
        "print(\"Protected:\", emp._salary)     # Accessible (but by convention, meant for internal use)\n",
        "# print(\"Private:\", emp.__ssn)       # This will raise an AttributeError\n",
        "\n",
        "# Accessing private variable using name mangling\n",
        "print(\"Private (via name mangling):\", emp._Employee__ssn)  # Accessible but discouraged\n",
        "\n",
        "# Optional: Display all via method\n",
        "emp.display()\n",
        "\n"
      ],
      "metadata": {
        "colab": {
          "base_uri": "https://localhost:8080/"
        },
        "id": "qXmgjpPKg72A",
        "outputId": "9ec397e7-9d74-4e13-8493-3fe5559d6f12"
      },
      "execution_count": 15,
      "outputs": [
        {
          "output_type": "stream",
          "name": "stdout",
          "text": [
            "Public: Alice\n",
            "Protected: 70000\n",
            "Private (via name mangling): 123-45-6789\n",
            "Name: Alice\n",
            "Salary: 70000\n",
            "SSN: 123-45-6789\n"
          ]
        }
      ]
    },
    {
      "cell_type": "code",
      "source": [
        "# 8. The super() Function\n",
        "# Assignment:\n",
        "# Create a class Person with a constructor that sets the name. Inherit a class Teacher from it, add a subject field, and use super() to call the base class constructor.\n",
        "\n",
        "class Person:\n",
        "    def __init__(self, name):\n",
        "        self.name = name\n",
        "        print(f\"Person constructor called. Name set to: {self.name}\")\n",
        "\n",
        "class Teacher(Person):\n",
        "    def __init__(self, name, subject):\n",
        "        super().__init__(name)  # Call the base class constructor\n",
        "        self.subject = subject\n",
        "        print(f\"Teacher constructor called. Subject set to: {self.subject}\")\n",
        "\n",
        "# Example usage:\n",
        "teacher1 = Teacher(\"Mr. Smith\", \"Mathematics\")\n",
        "\n"
      ],
      "metadata": {
        "colab": {
          "base_uri": "https://localhost:8080/"
        },
        "id": "_r29-ANDhTxV",
        "outputId": "d97aec28-b7ad-4753-bb0d-302731f6c1f0"
      },
      "execution_count": 14,
      "outputs": [
        {
          "output_type": "stream",
          "name": "stdout",
          "text": [
            "Person constructor called. Name set to: Mr. Smith\n",
            "Teacher constructor called. Subject set to: Mathematics\n"
          ]
        }
      ]
    },
    {
      "cell_type": "code",
      "source": [
        "# 9. Abstract Classes and Methods\n",
        "# Assignment:\n",
        "# Use the abc module to create an abstract class Shape with an abstract method area(). Inherit a class Rectangle that implements area().\n",
        "\n",
        "from abc import ABC, abstractmethod\n",
        "\n",
        "class Shape(ABC):\n",
        "    @abstractmethod\n",
        "    def area(self):\n",
        "        pass  # Abstract method, must be implemented by subclasses\n",
        "\n",
        "class Rectangle(Shape):\n",
        "    def __init__(self, width, height):\n",
        "        self.width = width\n",
        "        self.height = height\n",
        "\n",
        "    def area(self):\n",
        "        return self.width * self.height\n",
        "\n",
        "# Example usage:\n",
        "rect = Rectangle(5, 4)\n",
        "print(\"Area of Rectangle:\", rect.area())\n"
      ],
      "metadata": {
        "colab": {
          "base_uri": "https://localhost:8080/"
        },
        "id": "Rurwf-2chaMl",
        "outputId": "5b81b71d-a1ea-450a-ef43-48faf364c996"
      },
      "execution_count": 13,
      "outputs": [
        {
          "output_type": "stream",
          "name": "stdout",
          "text": [
            "Area of Rectangle: 20\n"
          ]
        }
      ]
    },
    {
      "cell_type": "code",
      "source": [
        "# 10. Instance Methods\n",
        "# Assignment:\n",
        "# Create a class Dog with instance variables name and breed. Add an instance method bark() that prints a message including the dog's name.\n",
        "\n",
        "class Dog:\n",
        "    def __init__(self, name, breed):\n",
        "        self.name = name      # Instance variable\n",
        "        self.breed = breed    # Instance variable\n",
        "\n",
        "    def bark(self):           # Instance method\n",
        "        print(f\"{self.name} says: Woof!\")\n",
        "\n",
        "# Example usage:\n",
        "dog1 = Dog(\"Buddy\", \"Golden Retriever\")\n",
        "dog1.bark()\n"
      ],
      "metadata": {
        "colab": {
          "base_uri": "https://localhost:8080/"
        },
        "id": "jNjqqScqiP60",
        "outputId": "643931d3-45a6-452f-d3b5-1e5a8d9f1e86"
      },
      "execution_count": 12,
      "outputs": [
        {
          "output_type": "stream",
          "name": "stdout",
          "text": [
            "Buddy says: Woof!\n"
          ]
        }
      ]
    },
    {
      "cell_type": "code",
      "source": [
        "# 11. Class Methods\n",
        "# Assignment:\n",
        "# Create a class Book with a class variable total_books. Add a class method increment_book_count() to increase the count when a new book is added.\n",
        "\n",
        "class Book:\n",
        "    total_books = 0  # Class variable to keep track of total books\n",
        "\n",
        "    def __init__(self, title, author):\n",
        "        self.title = title\n",
        "        self.author = author\n",
        "        Book.increment_book_count()  # Call class method to update count when a book is added\n",
        "\n",
        "    @classmethod\n",
        "    def increment_book_count(cls):\n",
        "        cls.total_books += 1  # Increase the class variable when a book is created\n",
        "\n",
        "    @classmethod\n",
        "    def display_total_books(cls):\n",
        "        print(f\"Total books: {cls.total_books}\")\n",
        "\n",
        "# Example usage:\n",
        "book1 = Book(\"The Great Gatsby\", \"F. Scott Fitzgerald\")\n",
        "book2 = Book(\"1984\", \"George Orwell\")\n",
        "book3 = Book(\"To Kill a Mockingbird\", \"Harper Lee\")\n",
        "\n",
        "Book.display_total_books()  # Display total number of books\n"
      ],
      "metadata": {
        "colab": {
          "base_uri": "https://localhost:8080/"
        },
        "id": "Dg40-FQOiaEe",
        "outputId": "f821f4bd-12b6-4241-8b63-ee3523fe9448"
      },
      "execution_count": 11,
      "outputs": [
        {
          "output_type": "stream",
          "name": "stdout",
          "text": [
            "Total books: 3\n"
          ]
        }
      ]
    },
    {
      "cell_type": "code",
      "source": [
        "# 12. Static Methods\n",
        "# Assignment:\n",
        "# Create a class TemperatureConverter with a static method celsius_to_fahrenheit(c) that returns the Fahrenheit value.\n",
        "\n",
        "class TemperatureConverter:\n",
        "    @staticmethod\n",
        "    def celsius_to_fahrenheit(c):\n",
        "        return (c * 9/5) + 32  # Formula for Celsius to Fahrenheit\n",
        "\n",
        "# Example usage:\n",
        "celsius = 25\n",
        "fahrenheit = TemperatureConverter.celsius_to_fahrenheit(celsius)\n",
        "print(f\"{celsius}°C is equal to {fahrenheit}°F\")\n"
      ],
      "metadata": {
        "id": "VKxK051Vii38"
      },
      "execution_count": null,
      "outputs": []
    },
    {
      "cell_type": "code",
      "source": [
        "# 13. Composition\n",
        "# Assignment:\n",
        "# Create a class Engine and a class Car. Use composition by passing an Engine object to the Car class during initialization. Access a method of the Engine class via the Car class.\n",
        "\n",
        "class Engine:\n",
        "    def __init__(self, engine_type):\n",
        "        self.engine_type = engine_type\n",
        "\n",
        "    def start_engine(self):\n",
        "        print(f\"{self.engine_type} engine started.\")\n",
        "\n",
        "class Car:\n",
        "    def __init__(self, brand, engine):\n",
        "        self.brand = brand  # Car's brand\n",
        "        self.engine = engine  # Composition: Engine object passed to Car\n",
        "\n",
        "    def start(self):\n",
        "        print(f\"The {self.brand} car is ready.\")\n",
        "        self.engine.start_engine()  # Accessing Engine's method through Car\n",
        "\n",
        "# Example usage:\n",
        "my_engine = Engine(\"V8\")  # Creating an Engine object\n",
        "my_car = Car(\"Ford Mustang\", my_engine)  # Passing Engine object to Car\n",
        "\n",
        "my_car.start()  # Calling the start method of the Car, which uses the Engine's start_engine method\n"
      ],
      "metadata": {
        "colab": {
          "base_uri": "https://localhost:8080/"
        },
        "id": "jQ8QQDpjirrQ",
        "outputId": "32072e1b-a991-48d5-fc95-f14e256ed501"
      },
      "execution_count": 10,
      "outputs": [
        {
          "output_type": "stream",
          "name": "stdout",
          "text": [
            "The Ford Mustang car is ready.\n",
            "V8 engine started.\n"
          ]
        }
      ]
    },
    {
      "cell_type": "code",
      "source": [
        "# 14. Aggregation\n",
        "# Assignment:\n",
        "# Create a class Department and a class Employee. Use aggregation by having a Department object store a reference to an Employee object that exists independently of it.\n",
        "\n",
        "\n",
        "class Employee:\n",
        "    def __init__(self, name, position):\n",
        "        self.name = name\n",
        "        self.position = position\n",
        "\n",
        "    def display_employee(self):\n",
        "        print(f\"Employee Name: {self.name}, Position: {self.position}\")\n",
        "\n",
        "class Department:\n",
        "    def __init__(self, dept_name, employee):\n",
        "        self.dept_name = dept_name\n",
        "        self.employee = employee  # Storing a reference to an Employee object\n",
        "\n",
        "    def display_department(self):\n",
        "        print(f\"Department: {self.dept_name}\")\n",
        "        self.employee.display_employee()  # Accessing Employee's method\n",
        "\n",
        "# Example usage:\n",
        "emp1 = Employee(\"Alice\", \"Software Engineer\")  # Creating an Employee object independently\n",
        "dept1 = Department(\"IT Department\", emp1)      # Creating a Department object and passing the Employee reference\n",
        "\n",
        "dept1.display_department()  # Displaying department details along with employee information\n",
        "\n"
      ],
      "metadata": {
        "colab": {
          "base_uri": "https://localhost:8080/"
        },
        "id": "1gNED0_Miy1d",
        "outputId": "c0b6091b-1dc9-43a5-8920-225a7413075f"
      },
      "execution_count": 9,
      "outputs": [
        {
          "output_type": "stream",
          "name": "stdout",
          "text": [
            "Department: IT Department\n",
            "Employee Name: Alice, Position: Software Engineer\n"
          ]
        }
      ]
    },
    {
      "cell_type": "code",
      "source": [
        "# 15. Method Resolution Order (MRO) and Diamond Inheritance\n",
        "# Assignment:\n",
        "# Create four classes:\n",
        "\n",
        "# A with a method show(),\n",
        "\n",
        "# B and C that inherit from A and override show(),\n",
        "\n",
        "# D that inherits from both B and C.\n",
        "\n",
        "# Create an object of D and call show() to observe MRO.\n",
        "\n",
        "class A:\n",
        "    def show(self):\n",
        "        print(\"Method from class A\")\n",
        "\n",
        "class B(A):\n",
        "    def show(self):\n",
        "        print(\"Method from class B\")\n",
        "\n",
        "class C(A):\n",
        "    def show(self):\n",
        "        print(\"Method from class C\")\n",
        "\n",
        "class D(B, C):\n",
        "    pass  # D inherits from both B and C\n",
        "\n",
        "# Create an object of D\n",
        "d = D()\n",
        "d.show()  # Calling the show() method of D\n"
      ],
      "metadata": {
        "colab": {
          "base_uri": "https://localhost:8080/"
        },
        "id": "FsN4SbKIi7sB",
        "outputId": "43954436-1b6c-4f74-857c-470f67b37e1d"
      },
      "execution_count": 8,
      "outputs": [
        {
          "output_type": "stream",
          "name": "stdout",
          "text": [
            "Method from class B\n"
          ]
        }
      ]
    },
    {
      "cell_type": "code",
      "source": [
        "# 16. Function Decorators\n",
        "# Assignment:\n",
        "# Write a decorator function log_function_call that prints \"Function is being called\" before a function executes. Apply it to a function say_hello().\n",
        "\n",
        "# Decorator definition\n",
        "def log_function_call(func):\n",
        "    def wrapper():\n",
        "        print(\"Function is being called\")\n",
        "        return func()\n",
        "    return wrapper\n",
        "\n",
        "# Function to apply the decorator\n",
        "@log_function_call\n",
        "def say_hello():\n",
        "    print(\"Hello, world!\")\n",
        "\n",
        "# Calling the function\n",
        "say_hello()\n"
      ],
      "metadata": {
        "colab": {
          "base_uri": "https://localhost:8080/"
        },
        "id": "vK16SIg4jBgU",
        "outputId": "11fef637-2a18-40bf-b06a-8da340207681"
      },
      "execution_count": 7,
      "outputs": [
        {
          "output_type": "stream",
          "name": "stdout",
          "text": [
            "Function is being called\n",
            "Hello, world!\n"
          ]
        }
      ]
    },
    {
      "cell_type": "code",
      "source": [
        "# 17. Class Decorators\n",
        "# Assignment:\n",
        "# Create a class decorator add_greeting that modifies a class to add a greet() method returning \"Hello from Decorator!\". Apply it to a class Person.\n",
        "\n",
        "# Class decorator definition\n",
        "def add_greeting(cls):\n",
        "    def greet(self):\n",
        "        return \"Hello from Decorator!\"\n",
        "\n",
        "    # Adding the greet method to the class\n",
        "    cls.greet = greet\n",
        "    return cls\n",
        "\n",
        "# Applying the class decorator to the Person class\n",
        "@add_greeting\n",
        "class Person:\n",
        "    def __init__(self, name):\n",
        "        self.name = name\n",
        "\n",
        "# Example usage\n",
        "person = Person(\"Alice\")\n",
        "print(person.greet())  # Calling the greet method added by the decorator\n"
      ],
      "metadata": {
        "colab": {
          "base_uri": "https://localhost:8080/"
        },
        "id": "jKnxtzO4jJYb",
        "outputId": "ee566312-2340-4cfc-e051-9b9853f62fec"
      },
      "execution_count": 6,
      "outputs": [
        {
          "output_type": "stream",
          "name": "stdout",
          "text": [
            "Hello from Decorator!\n"
          ]
        }
      ]
    },
    {
      "cell_type": "code",
      "source": [
        "# 18. Property Decorators: @property, @setter, and @deleter\n",
        "# Assignment:\n",
        "# Create a class Product with a private attribute _price. Use @property to get the price, @price.setter to update it, and @price.deleter to delete it.\n",
        "\n",
        "class Product:\n",
        "    def __init__(self, price):\n",
        "        self._price = price  # Private attribute\n",
        "\n",
        "    @property\n",
        "    def price(self):\n",
        "        \"\"\"Getter method for the price\"\"\"\n",
        "        return self._price\n",
        "\n",
        "    @price.setter\n",
        "    def price(self, new_price):\n",
        "        \"\"\"Setter method to update the price\"\"\"\n",
        "        if new_price >= 0:\n",
        "            self._price = new_price\n",
        "        else:\n",
        "            print(\"Price cannot be negative.\")\n",
        "\n",
        "    @price.deleter\n",
        "    def price(self):\n",
        "        \"\"\"Deleter method to delete the price\"\"\"\n",
        "        print(\"Price deleted.\")\n",
        "        del self._price\n",
        "\n",
        "# Example usage\n",
        "product = Product(100)  # Initializing with a price\n",
        "\n",
        "# Getting the price using the @property decorator\n",
        "print(product.price)  # Output: 100\n",
        "\n",
        "# Setting a new price using the @price.setter decorator\n",
        "product.price = 150\n",
        "print(product.price)  # Output: 150\n",
        "\n",
        "# Trying to set a negative price\n",
        "product.price = -50  # Output: Price cannot be negative.\n",
        "\n",
        "# Deleting the price using the @price.deleter decorator\n",
        "del product.price  # Output: Price deleted.\n"
      ],
      "metadata": {
        "colab": {
          "base_uri": "https://localhost:8080/"
        },
        "id": "GMs69EgujQow",
        "outputId": "69fb95ab-874f-4660-895c-e3a0ec64fa74"
      },
      "execution_count": 5,
      "outputs": [
        {
          "output_type": "stream",
          "name": "stdout",
          "text": [
            "100\n",
            "150\n",
            "Price cannot be negative.\n",
            "Price deleted.\n"
          ]
        }
      ]
    },
    {
      "cell_type": "code",
      "source": [
        "# 19. callable() and __call__()\n",
        "# Assignment:\n",
        "# Create a class Multiplier with an __init__() to set a factor. Define a __call__() method that multiplies an input by the factor. Test it with callable() and by calling the object like a function.\n",
        "\n",
        "\n",
        "class Multiplier:\n",
        "    def __init__(self, factor):\n",
        "        self.factor = factor  # Set the multiplication factor\n",
        "\n",
        "    def __call__(self, num):\n",
        "        \"\"\"Multiply the input by the factor\"\"\"\n",
        "        return num * self.factor\n",
        "\n",
        "# Example usage\n",
        "multiply_by_3 = Multiplier(3)  # Create an instance with a factor of 3\n",
        "\n",
        "# Test using callable() to check if the object is callable\n",
        "print(callable(multiply_by_3))  # Output: True\n",
        "\n",
        "# Calling the object like a function\n",
        "result = multiply_by_3(5)  # Output: 15\n",
        "print(result)\n"
      ],
      "metadata": {
        "colab": {
          "base_uri": "https://localhost:8080/"
        },
        "id": "RCYmNP5DjaiB",
        "outputId": "0ade56dc-f10f-4576-c49b-40f7c7efe8ca"
      },
      "execution_count": 4,
      "outputs": [
        {
          "output_type": "stream",
          "name": "stdout",
          "text": [
            "True\n",
            "15\n"
          ]
        }
      ]
    },
    {
      "cell_type": "code",
      "source": [
        "# 20. Creating a Custom Exception\n",
        "# Assignment:\n",
        "# Create a custom exception InvalidAgeError. Write a function check_age(age) that raises this exception if age < 18. Handle it with try...except.\n",
        "\n",
        "# Custom Exception definition\n",
        "class InvalidAgeError(Exception):\n",
        "    \"\"\"Exception raised for invalid age.\"\"\"\n",
        "    pass\n",
        "\n",
        "# Function to check age\n",
        "def check_age(age):\n",
        "    if age < 18:\n",
        "        raise InvalidAgeError(\"Age must be 18 or older.\")\n",
        "    return f\"Age {age} is valid.\"\n",
        "\n",
        "# Example usage with try...except block\n",
        "try:\n",
        "    age = int(input(\"Enter age: \"))  # Taking age input\n",
        "    print(check_age(age))  # Check the age\n",
        "except InvalidAgeError as e:\n",
        "    print(f\"Invalid age: {e}\")  # Handling the custom exception\n",
        "except ValueError:\n",
        "    print(\"Please enter a valid number for age.\")\n"
      ],
      "metadata": {
        "colab": {
          "base_uri": "https://localhost:8080/"
        },
        "id": "4ZTKTKt0jiHN",
        "outputId": "648b47c0-3f4e-4deb-9977-7972378a9eff"
      },
      "execution_count": 3,
      "outputs": [
        {
          "output_type": "stream",
          "name": "stdout",
          "text": [
            "Enter age: 19\n",
            "Age 19 is valid.\n"
          ]
        }
      ]
    },
    {
      "cell_type": "code",
      "source": [
        "# 21. Make a Custom Class Iterable\n",
        "# Assignment:\n",
        "# Create a class Countdown that takes a start number. Implement __iter__() and __next__() to make the object iterable in a for-loop, counting down to 0.\n",
        "\n",
        "class Countdown:\n",
        "    def __init__(self, start):\n",
        "        self.start = start  # Starting number for countdown\n",
        "\n",
        "    def __iter__(self):\n",
        "        self.current = self.start  # Initialize current number to start\n",
        "        return self  # Return the iterator object (self)\n",
        "\n",
        "    def __next__(self):\n",
        "        if self.current < 0:\n",
        "            raise StopIteration  # Stop iteration when count reaches below 0\n",
        "        else:\n",
        "            self.current -= 1  # Decrease the current value\n",
        "            return self.current + 1  # Return the current value before decrement\n",
        "\n",
        "# Example usage in a for-loop\n",
        "countdown = Countdown(5)\n",
        "\n",
        "for num in countdown:\n",
        "    print(num)\n"
      ],
      "metadata": {
        "colab": {
          "base_uri": "https://localhost:8080/"
        },
        "id": "GwtEJ6MFjqu9",
        "outputId": "3cc956dd-0c59-4cd3-b85b-19ef1e2525b5"
      },
      "execution_count": 2,
      "outputs": [
        {
          "output_type": "stream",
          "name": "stdout",
          "text": [
            "5\n",
            "4\n",
            "3\n",
            "2\n",
            "1\n",
            "0\n"
          ]
        }
      ]
    }
  ]
}